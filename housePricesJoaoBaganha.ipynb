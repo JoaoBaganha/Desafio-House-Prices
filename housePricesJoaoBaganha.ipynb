{
  "nbformat": 4,
  "nbformat_minor": 0,
  "metadata": {
    "colab": {
      "provenance": []
    },
    "kernelspec": {
      "name": "python3",
      "display_name": "Python 3"
    },
    "language_info": {
      "name": "python"
    }
  },
  "cells": [
    {
      "cell_type": "code",
      "execution_count": 1,
      "metadata": {
        "id": "bJZB4QS2f4qu",
        "colab": {
          "base_uri": "https://localhost:8080/"
        },
        "outputId": "b008d0b1-5b3a-4ecc-ee21-f1141a9b0ec3"
      },
      "outputs": [
        {
          "output_type": "stream",
          "name": "stdout",
          "text": [
            "Hello World\n"
          ]
        }
      ],
      "source": [
        "print('Hello World')"
      ]
    },
    {
      "cell_type": "code",
      "source": [],
      "metadata": {
        "id": "g9lsp8dShDW_"
      },
      "execution_count": null,
      "outputs": []
    }
  ]
}